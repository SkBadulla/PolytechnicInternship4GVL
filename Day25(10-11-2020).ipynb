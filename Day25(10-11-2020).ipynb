{
 "cells": [
  {
   "cell_type": "markdown",
   "metadata": {},
   "source": [
    "# few more ways of impleneting functions in python\n",
    "- default arguments\n",
    "- keyword arguments\n",
    "- required arguments\n",
    "- arguments length"
   ]
  },
  {
   "cell_type": "code",
   "execution_count": 3,
   "metadata": {},
   "outputs": [
    {
     "name": "stdout",
     "output_type": "stream",
     "text": [
      "0 0\n",
      "0\n",
      "5 0\n",
      "5\n",
      "6 7\n",
      "13\n"
     ]
    }
   ],
   "source": [
    "# default arguments\n",
    "    # if i give nothing defalut args will consider something\n",
    "# ex: range(),print()\n",
    "# range(start,end,incre/decre)\n",
    "def add(num1=0,num2=0):\n",
    "    print(num1,num2)\n",
    "    return num1+num2\n",
    "\n",
    "print(add())\n",
    "print(add(5))\n",
    "print(add(6,7))"
   ]
  },
  {
   "cell_type": "code",
   "execution_count": 7,
   "metadata": {},
   "outputs": [
    {
     "name": "stdout",
     "output_type": "stream",
     "text": [
      "7 5\n",
      "12\n"
     ]
    }
   ],
   "source": [
    "# keyword arguments\n",
    "# ex: print(end='\\n') print(end=\" \")\n",
    "def add1(n1=0,n2=0):\n",
    "    print(n1,n2)\n",
    "    return n1+n2\n",
    "\n",
    "print(add1(n2 = 5,n1 = 7))"
   ]
  },
  {
   "cell_type": "code",
   "execution_count": 13,
   "metadata": {},
   "outputs": [
    {
     "name": "stdout",
     "output_type": "stream",
     "text": [
      "6\n"
     ]
    }
   ],
   "source": [
    "# required arguments\n",
    "# ex:range()\n",
    "def add2(a,b=0):\n",
    "    return a+b\n",
    "print(add2(a=6))"
   ]
  },
  {
   "cell_type": "code",
   "execution_count": 16,
   "metadata": {},
   "outputs": [
    {
     "name": "stdout",
     "output_type": "stream",
     "text": [
      "<class 'tuple'>\n",
      "21\n"
     ]
    }
   ],
   "source": [
    "# arguments or varible length\n",
    "def mySum(*args):\n",
    "    print(type(args))\n",
    "    sm=0\n",
    "    for i in args:\n",
    "        sm+=i\n",
    "    return sm\n",
    "    \n",
    "print(mySum(1,2,3,4,5,6))"
   ]
  },
  {
   "cell_type": "code",
   "execution_count": 32,
   "metadata": {},
   "outputs": [
    {
     "name": "stdout",
     "output_type": "stream",
     "text": [
      "<class 'list'>\n",
      "21\n"
     ]
    }
   ],
   "source": [
    "def mySum(*args):\n",
    "    #print(type(args))\n",
    "    sm=0\n",
    "    for i in args:\n",
    "        print(type(i))\n",
    "        return sum(i)\n",
    "li=[1,2,3,4,5,6]\n",
    "print(mySum(li))"
   ]
  },
  {
   "cell_type": "code",
   "execution_count": 33,
   "metadata": {},
   "outputs": [
    {
     "name": "stdout",
     "output_type": "stream",
     "text": [
      "<class 'dict'>\n"
     ]
    }
   ],
   "source": [
    "def myData(**keyargs):\n",
    "    print(type(keyargs))\n",
    "    \n",
    "myData(name='abdul',rollno='123',branch='cse')"
   ]
  },
  {
   "cell_type": "code",
   "execution_count": 34,
   "metadata": {},
   "outputs": [
    {
     "name": "stdout",
     "output_type": "stream",
     "text": [
      "<class 'tuple'>\n"
     ]
    }
   ],
   "source": [
    "def dta(*info):\n",
    "    print(type(info))\n",
    "    \n",
    "dta('abdul','123','cse')\n"
   ]
  },
  {
   "cell_type": "code",
   "execution_count": 35,
   "metadata": {},
   "outputs": [],
   "source": [
    "# 1 perform sum of series which passing by user\n",
    "# i/p: Enter numbers: 1,3,5,6,4,5,6\n",
    "# o/p: sum of user data"
   ]
  },
  {
   "cell_type": "code",
   "execution_count": null,
   "metadata": {},
   "outputs": [],
   "source": [
    "# 2 print even nums from given series\n",
    "# i/p: Enter numbers: 1,3,5,6,4,5,6\n",
    "# o/p: 6,4,6"
   ]
  }
 ],
 "metadata": {
  "kernelspec": {
   "display_name": "Python 3",
   "language": "python",
   "name": "python3"
  },
  "language_info": {
   "codemirror_mode": {
    "name": "ipython",
    "version": 3
   },
   "file_extension": ".py",
   "mimetype": "text/x-python",
   "name": "python",
   "nbconvert_exporter": "python",
   "pygments_lexer": "ipython3",
   "version": "3.7.4"
  }
 },
 "nbformat": 4,
 "nbformat_minor": 4
}
