{
 "cells": [
  {
   "cell_type": "markdown",
   "metadata": {},
   "source": [
    "## OOP's(Object Oriented Progrtamming):\n",
    "- here we will split a lorge program into sub parts\n",
    "- use of this opps is hidding data like packages\n",
    "- opps provide better security\n",
    "### - properties\n",
    "- class\n",
    "- object\n",
    "- method\n",
    "- polymorphism\n",
    "- encapsulations\n",
    "- abstraction\n"
   ]
  },
  {
   "cell_type": "markdown",
   "metadata": {},
   "source": [
    "###  class:\n",
    "- Class is blue print of the object\n",
    "- class is colection of member variables(objects) and member functions(methods).\n",
    "```\n",
    "class class_name:\n",
    "    memeber variables\n",
    "    member functions\n",
    "    \n",
    "```\n",
    "#### rules for defing a class:\n",
    "- first letter is capital or class name should start with caps\n",
    "- should use a class keyword\n",
    "- should not contains spaces \n",
    "- the class name should not be started with numbers\n",
    "\n"
   ]
  },
  {
   "cell_type": "code",
   "execution_count": 2,
   "metadata": {},
   "outputs": [
    {
     "name": "stdout",
     "output_type": "stream",
     "text": [
      "<class 'int'>\n"
     ]
    }
   ],
   "source": [
    "a = 10\n",
    "print(type(a))"
   ]
  },
  {
   "cell_type": "markdown",
   "metadata": {},
   "source": [
    "# functions and methods\n",
    "- in oop functions are called as methods\n",
    "\n",
    "```def add():\n",
    "    return 4+5\n",
    "\n",
    "\n",
    "class Hello:\n",
    "    def add():\n",
    "        return 4+5```"
   ]
  },
  {
   "cell_type": "code",
   "execution_count": 8,
   "metadata": {},
   "outputs": [
    {
     "name": "stdout",
     "output_type": "stream",
     "text": [
      "abdul\n",
      "12\n",
      "i am from printInfo()\n"
     ]
    }
   ],
   "source": [
    "class MyInfo:\n",
    "    name = \"abdul\"\n",
    "    rollno = 12\n",
    "    \n",
    "    def printInfo():\n",
    "        print(\"i am from printInfo()\")\n",
    "\n",
    "print(MyInfo.name)\n",
    "print(MyInfo.rollno)\n",
    "MyInfo.printInfo()"
   ]
  },
  {
   "cell_type": "markdown",
   "metadata": {},
   "source": [
    "## Object\n",
    "- instance of a class\n",
    "- real time entity\n",
    "```\n",
    "obj_name = class_name\n",
    "```"
   ]
  },
  {
   "cell_type": "code",
   "execution_count": 11,
   "metadata": {},
   "outputs": [
    {
     "name": "stdout",
     "output_type": "stream",
     "text": [
      "abdul\n",
      "i am from printInfo()\n",
      "None\n"
     ]
    }
   ],
   "source": [
    "class MyInfo:\n",
    "    name = \"abdul\"\n",
    "    rollno = 12\n",
    "    \n",
    "    def printInfo():\n",
    "        print(\"i am from printInfo()\")\n",
    "        \n",
    "obj = MyInfo\n",
    "print(obj.name)\n",
    "print(obj.printInfo())"
   ]
  },
  {
   "cell_type": "code",
   "execution_count": 27,
   "metadata": {},
   "outputs": [
    {
     "name": "stdout",
     "output_type": "stream",
     "text": [
      "11\n",
      "\n",
      "    hi welcome to MyMath class,\n",
      "    here we implemented add() for that add u have to pass 2 parms.\n",
      "    \n"
     ]
    }
   ],
   "source": [
    "class MyMath:\n",
    "    \n",
    "    '''\n",
    "    hi welcome to MyMath class,\n",
    "    here we implemented add() for that add u have to pass 2 parms.\n",
    "    '''\n",
    "    \n",
    "    def add(n1, n2):\n",
    "        return n1 + n2\n",
    "\n",
    "obj = MyMath\n",
    "print(obj.add(5,6))\n",
    "print(obj.__doc__)"
   ]
  },
  {
   "cell_type": "code",
   "execution_count": 33,
   "metadata": {},
   "outputs": [
    {
     "ename": "TypeError",
     "evalue": "add() takes 2 positional arguments but 3 were given",
     "output_type": "error",
     "traceback": [
      "\u001b[1;31m---------------------------------------------------------------------------\u001b[0m",
      "\u001b[1;31mTypeError\u001b[0m                                 Traceback (most recent call last)",
      "\u001b[1;32m<ipython-input-33-90a71c903f44>\u001b[0m in \u001b[0;36m<module>\u001b[1;34m\u001b[0m\n\u001b[0;32m     13\u001b[0m         \u001b[1;32mreturn\u001b[0m \u001b[0mn1\u001b[0m \u001b[1;33m*\u001b[0m \u001b[0mn2\u001b[0m\u001b[1;33m\u001b[0m\u001b[1;33m\u001b[0m\u001b[0m\n\u001b[0;32m     14\u001b[0m \u001b[0mobj\u001b[0m \u001b[1;33m=\u001b[0m \u001b[0mMyMath\u001b[0m\u001b[1;33m(\u001b[0m\u001b[1;33m)\u001b[0m\u001b[1;33m\u001b[0m\u001b[1;33m\u001b[0m\u001b[0m\n\u001b[1;32m---> 15\u001b[1;33m \u001b[0mprint\u001b[0m\u001b[1;33m(\u001b[0m\u001b[0mobj\u001b[0m\u001b[1;33m.\u001b[0m\u001b[0madd\u001b[0m\u001b[1;33m(\u001b[0m\u001b[1;36m5\u001b[0m\u001b[1;33m,\u001b[0m\u001b[1;36m6\u001b[0m\u001b[1;33m)\u001b[0m\u001b[1;33m)\u001b[0m\u001b[1;33m\u001b[0m\u001b[1;33m\u001b[0m\u001b[0m\n\u001b[0m\u001b[0;32m     16\u001b[0m \u001b[0mprint\u001b[0m\u001b[1;33m(\u001b[0m\u001b[0mobj\u001b[0m\u001b[1;33m.\u001b[0m\u001b[0msub\u001b[0m\u001b[1;33m(\u001b[0m\u001b[1;36m5\u001b[0m\u001b[1;33m,\u001b[0m\u001b[1;36m6\u001b[0m\u001b[1;33m)\u001b[0m\u001b[1;33m)\u001b[0m\u001b[1;33m\u001b[0m\u001b[1;33m\u001b[0m\u001b[0m\n\u001b[0;32m     17\u001b[0m \u001b[0mprint\u001b[0m\u001b[1;33m(\u001b[0m\u001b[0mobj\u001b[0m\u001b[1;33m.\u001b[0m\u001b[0mmul\u001b[0m\u001b[1;33m(\u001b[0m\u001b[1;36m5\u001b[0m\u001b[1;33m,\u001b[0m\u001b[1;36m6\u001b[0m\u001b[1;33m)\u001b[0m\u001b[1;33m)\u001b[0m\u001b[1;33m\u001b[0m\u001b[1;33m\u001b[0m\u001b[0m\n",
      "\u001b[1;31mTypeError\u001b[0m: add() takes 2 positional arguments but 3 were given"
     ]
    }
   ],
   "source": [
    "class MyMath():\n",
    "    \n",
    "    '''\n",
    "    hi welcome to MyMath class,\n",
    "    here we implemented add() for that add u have to pass 2 parms.\n",
    "    '''\n",
    "    \n",
    "    def add(n1, n2):\n",
    "        return n1 + n2\n",
    "    def sub(n1, n2):\n",
    "        return n1 - n2\n",
    "    def mul(n1, n2):\n",
    "        return n1 * n2\n",
    "obj = MyMath()\n",
    "print(obj.add(5,6))\n",
    "print(obj.sub(5,6))\n",
    "print(obj.mul(5,6))\n"
   ]
  },
  {
   "cell_type": "markdown",
   "metadata": {},
   "source": [
    "## Constructor:\n",
    "- without using object we will call constructor method(when object is created)\n",
    "- in python __init__(self) method will work like as a constroctor\n",
    "- constructors are two types :\n",
    "    - default and parametered\n"
   ]
  },
  {
   "cell_type": "code",
   "execution_count": 35,
   "metadata": {},
   "outputs": [
    {
     "name": "stdout",
     "output_type": "stream",
     "text": [
      "5   9\n",
      "14\n"
     ]
    }
   ],
   "source": [
    "class MyMath():\n",
    "    \n",
    "    '''\n",
    "    hi welcome to MyMath class,\n",
    "    here we implemented add() for that add u have to pass 2 parms.\n",
    "    '''\n",
    "    def __init__(self,n1,n2):\n",
    "        self.n1 = n1\n",
    "        self.n2 = n2\n",
    "        print(self.n1,' ',self.n2)\n",
    "        \n",
    "    def add(self):\n",
    "        return self.n1 + self.n2\n",
    "        \n",
    "    \n",
    "obj = MyMath(5,9)\n",
    "print(obj.add())"
   ]
  },
  {
   "cell_type": "code",
   "execution_count": null,
   "metadata": {},
   "outputs": [],
   "source": []
  }
 ],
 "metadata": {
  "kernelspec": {
   "display_name": "Python 3",
   "language": "python",
   "name": "python3"
  },
  "language_info": {
   "codemirror_mode": {
    "name": "ipython",
    "version": 3
   },
   "file_extension": ".py",
   "mimetype": "text/x-python",
   "name": "python",
   "nbconvert_exporter": "python",
   "pygments_lexer": "ipython3",
   "version": "3.7.4"
  }
 },
 "nbformat": 4,
 "nbformat_minor": 4
}
