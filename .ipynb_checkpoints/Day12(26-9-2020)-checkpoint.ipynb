{
 "cells": [
  {
   "cell_type": "code",
   "execution_count": 2,
   "metadata": {
    "colab": {
     "base_uri": "https://localhost:8080/",
     "height": 34
    },
    "executionInfo": {
     "elapsed": 2057,
     "status": "ok",
     "timestamp": 1601098496234,
     "user": {
      "displayName": "Kalyan chakravarthi P",
      "photoUrl": "",
      "userId": "13155644528247854005"
     },
     "user_tz": -330
    },
    "id": "PJBBDjRm4KFc",
    "outputId": "2a67edb6-b097-4ca7-a88c-9694fe993bb2"
   },
   "outputs": [
    {
     "name": "stdout",
     "output_type": "stream",
     "text": [
      "Welcome to the Collections concept in python\n"
     ]
    }
   ],
   "source": [
    "print(\"Welcome to the Collections concept in python\")"
   ]
  },
  {
   "cell_type": "code",
   "execution_count": 5,
   "metadata": {
    "executionInfo": {
     "elapsed": 1578,
     "status": "ok",
     "timestamp": 1601098667813,
     "user": {
      "displayName": "Kalyan chakravarthi P",
      "photoUrl": "",
      "userId": "13155644528247854005"
     },
     "user_tz": -330
    },
    "id": "qmNqxpr64ZeU"
   },
   "outputs": [],
   "source": [
    "# Collections in python \n",
    "    - List\n",
    "    - Tuple\n",
    "    - Set\n",
    "    - Dictionary"
   ]
  },
  {
   "cell_type": "code",
   "execution_count": 6,
   "metadata": {
    "executionInfo": {
     "elapsed": 2205,
     "status": "ok",
     "timestamp": 1601098999696,
     "user": {
      "displayName": "Kalyan chakravarthi P",
      "photoUrl": "",
      "userId": "13155644528247854005"
     },
     "user_tz": -330
    },
    "id": "p0nb5U_36PWb"
   },
   "outputs": [],
   "source": [
    "# List \n",
    " - List data can be represented by using [] or list()\n",
    " - List allow duplicate value\n",
    " - We can manupulate data by using indexing and Slicing\n",
    " - Oredered format values are stored in a list\n",
    "\n"
   ]
  },
  {
   "cell_type": "code",
   "execution_count": 9,
   "metadata": {
    "colab": {
     "base_uri": "https://localhost:8080/",
     "height": 34
    },
    "executionInfo": {
     "elapsed": 1633,
     "status": "ok",
     "timestamp": 1601099089712,
     "user": {
      "displayName": "Kalyan chakravarthi P",
      "photoUrl": "",
      "userId": "13155644528247854005"
     },
     "user_tz": -330
    },
    "id": "P_Vsszm177do",
    "outputId": "fa1616d8-3cf2-4358-9220-4c4889d40a31"
   },
   "outputs": [
    {
     "data": {
      "text/plain": [
       "[1, 2, 3]"
      ]
     },
     "execution_count": 9,
     "metadata": {
      "tags": []
     },
     "output_type": "execute_result"
    }
   ],
   "source": [
    "List1=[1,2,3]\n",
    "List1"
   ]
  },
  {
   "cell_type": "code",
   "execution_count": 11,
   "metadata": {
    "colab": {
     "base_uri": "https://localhost:8080/",
     "height": 34
    },
    "executionInfo": {
     "elapsed": 2028,
     "status": "ok",
     "timestamp": 1601099099720,
     "user": {
      "displayName": "Kalyan chakravarthi P",
      "photoUrl": "",
      "userId": "13155644528247854005"
     },
     "user_tz": -330
    },
    "id": "pR-WkUtb7_z9",
    "outputId": "46927478-d104-4690-893a-9fdb1c558bdf"
   },
   "outputs": [
    {
     "data": {
      "text/plain": [
       "['Kalyan', 'Badulla', 'Rakesh']"
      ]
     },
     "execution_count": 11,
     "metadata": {
      "tags": []
     },
     "output_type": "execute_result"
    }
   ],
   "source": [
    "List2=[\"Kalyan\",\"Badulla\",\"Rakesh\"]\n",
    "List2"
   ]
  },
  {
   "cell_type": "code",
   "execution_count": 12,
   "metadata": {
    "colab": {
     "base_uri": "https://localhost:8080/",
     "height": 34
    },
    "executionInfo": {
     "elapsed": 919,
     "status": "ok",
     "timestamp": 1601099173944,
     "user": {
      "displayName": "Kalyan chakravarthi P",
      "photoUrl": "",
      "userId": "13155644528247854005"
     },
     "user_tz": -330
    },
    "id": "OfJ1zP3w8Unz",
    "outputId": "b7847537-b7f2-4342-f349-f1e3f4e3d3d3"
   },
   "outputs": [
    {
     "name": "stdout",
     "output_type": "stream",
     "text": [
      "['Ram', 1, 'Sam', 2, 'Nayan', 3]\n"
     ]
    }
   ],
   "source": [
    "list3=[\"Ram\",1,\"Sam\",2,\"Nayan\",3]\n",
    "print(list3)"
   ]
  },
  {
   "cell_type": "code",
   "execution_count": 13,
   "metadata": {
    "colab": {
     "base_uri": "https://localhost:8080/",
     "height": 35
    },
    "executionInfo": {
     "elapsed": 1474,
     "status": "ok",
     "timestamp": 1601099276035,
     "user": {
      "displayName": "Kalyan chakravarthi P",
      "photoUrl": "",
      "userId": "13155644528247854005"
     },
     "user_tz": -330
    },
    "id": "NrwvuXGX8ofy",
    "outputId": "495f6ed3-85e0-41e0-9ba6-225f18ab8628"
   },
   "outputs": [
    {
     "data": {
      "application/vnd.google.colaboratory.intrinsic+json": {
       "type": "string"
      },
      "text/plain": [
       "'Sam'"
      ]
     },
     "execution_count": 13,
     "metadata": {
      "tags": []
     },
     "output_type": "execute_result"
    }
   ],
   "source": [
    "# Indexing \n",
    "list3[2]"
   ]
  },
  {
   "cell_type": "code",
   "execution_count": 14,
   "metadata": {
    "colab": {
     "base_uri": "https://localhost:8080/",
     "height": 35
    },
    "executionInfo": {
     "elapsed": 1432,
     "status": "ok",
     "timestamp": 1601099325825,
     "user": {
      "displayName": "Kalyan chakravarthi P",
      "photoUrl": "",
      "userId": "13155644528247854005"
     },
     "user_tz": -330
    },
    "id": "dLwI6HuX9Bj7",
    "outputId": "ed467f17-1d5f-450e-b65c-54f7b5c369a6"
   },
   "outputs": [
    {
     "data": {
      "application/vnd.google.colaboratory.intrinsic+json": {
       "type": "string"
      },
      "text/plain": [
       "'Nayan'"
      ]
     },
     "execution_count": 14,
     "metadata": {
      "tags": []
     },
     "output_type": "execute_result"
    }
   ],
   "source": [
    "list3[4]"
   ]
  },
  {
   "cell_type": "code",
   "execution_count": 15,
   "metadata": {
    "colab": {
     "base_uri": "https://localhost:8080/",
     "height": 34
    },
    "executionInfo": {
     "elapsed": 1351,
     "status": "ok",
     "timestamp": 1601099362961,
     "user": {
      "displayName": "Kalyan chakravarthi P",
      "photoUrl": "",
      "userId": "13155644528247854005"
     },
     "user_tz": -330
    },
    "id": "yq2LwJl39Nun",
    "outputId": "77d35acc-261b-4657-8a19-fbf66f8f5168"
   },
   "outputs": [
    {
     "data": {
      "text/plain": [
       "3"
      ]
     },
     "execution_count": 15,
     "metadata": {
      "tags": []
     },
     "output_type": "execute_result"
    }
   ],
   "source": [
    "list3[5]"
   ]
  },
  {
   "cell_type": "code",
   "execution_count": 16,
   "metadata": {
    "colab": {
     "base_uri": "https://localhost:8080/",
     "height": 34
    },
    "executionInfo": {
     "elapsed": 1290,
     "status": "ok",
     "timestamp": 1601099462570,
     "user": {
      "displayName": "Kalyan chakravarthi P",
      "photoUrl": "",
      "userId": "13155644528247854005"
     },
     "user_tz": -330
    },
    "id": "7P6RPdVf9W0S",
    "outputId": "e708fa8e-be55-4541-b93a-7e6b35baa978"
   },
   "outputs": [
    {
     "data": {
      "text/plain": [
       "3"
      ]
     },
     "execution_count": 16,
     "metadata": {
      "tags": []
     },
     "output_type": "execute_result"
    }
   ],
   "source": [
    "list3[-1]"
   ]
  },
  {
   "cell_type": "code",
   "execution_count": 17,
   "metadata": {
    "colab": {
     "base_uri": "https://localhost:8080/",
     "height": 35
    },
    "executionInfo": {
     "elapsed": 2459,
     "status": "ok",
     "timestamp": 1601099514497,
     "user": {
      "displayName": "Kalyan chakravarthi P",
      "photoUrl": "",
      "userId": "13155644528247854005"
     },
     "user_tz": -330
    },
    "id": "FUgGXk2P9vJT",
    "outputId": "c95a967f-ee0f-4e09-eab3-2ff905330b1b"
   },
   "outputs": [
    {
     "data": {
      "application/vnd.google.colaboratory.intrinsic+json": {
       "type": "string"
      },
      "text/plain": [
       "'Sam'"
      ]
     },
     "execution_count": 17,
     "metadata": {
      "tags": []
     },
     "output_type": "execute_result"
    }
   ],
   "source": [
    "list3[-4]"
   ]
  },
  {
   "cell_type": "code",
   "execution_count": 18,
   "metadata": {
    "colab": {
     "base_uri": "https://localhost:8080/",
     "height": 34
    },
    "executionInfo": {
     "elapsed": 1954,
     "status": "ok",
     "timestamp": 1601099711289,
     "user": {
      "displayName": "Kalyan chakravarthi P",
      "photoUrl": "",
      "userId": "13155644528247854005"
     },
     "user_tz": -330
    },
    "id": "f59EhzAj97ep",
    "outputId": "45b6c37f-6667-4766-8953-15fdf29eb68b"
   },
   "outputs": [
    {
     "data": {
      "text/plain": [
       "[3, 'Nayan', 2, 'Sam', 1, 'Ram']"
      ]
     },
     "execution_count": 18,
     "metadata": {
      "tags": []
     },
     "output_type": "execute_result"
    }
   ],
   "source": [
    "list3[::-1]"
   ]
  },
  {
   "cell_type": "code",
   "execution_count": 19,
   "metadata": {
    "colab": {
     "base_uri": "https://localhost:8080/",
     "height": 34
    },
    "executionInfo": {
     "elapsed": 1573,
     "status": "ok",
     "timestamp": 1601099782442,
     "user": {
      "displayName": "Kalyan chakravarthi P",
      "photoUrl": "",
      "userId": "13155644528247854005"
     },
     "user_tz": -330
    },
    "id": "Kk4vZCJR-rtY",
    "outputId": "1dffd7a8-4811-44d3-f1c3-f75cbd2f493b"
   },
   "outputs": [
    {
     "data": {
      "text/plain": [
       "['Ram', 1, 'Sam', 2, 'Nayan', 3]"
      ]
     },
     "execution_count": 19,
     "metadata": {
      "tags": []
     },
     "output_type": "execute_result"
    }
   ],
   "source": [
    "list3"
   ]
  },
  {
   "cell_type": "code",
   "execution_count": 22,
   "metadata": {
    "colab": {
     "base_uri": "https://localhost:8080/",
     "height": 34
    },
    "executionInfo": {
     "elapsed": 2190,
     "status": "ok",
     "timestamp": 1601099873245,
     "user": {
      "displayName": "Kalyan chakravarthi P",
      "photoUrl": "",
      "userId": "13155644528247854005"
     },
     "user_tz": -330
    },
    "id": "gKDvVnp2-9J3",
    "outputId": "c018d441-79a5-43b5-feb8-4c1afe3aae17"
   },
   "outputs": [
    {
     "data": {
      "text/plain": [
       "['Sam', 2, 'Nayan', 3]"
      ]
     },
     "execution_count": 22,
     "metadata": {
      "tags": []
     },
     "output_type": "execute_result"
    }
   ],
   "source": [
    "list3[2:]"
   ]
  },
  {
   "cell_type": "code",
   "execution_count": 24,
   "metadata": {
    "colab": {
     "base_uri": "https://localhost:8080/",
     "height": 34
    },
    "executionInfo": {
     "elapsed": 1569,
     "status": "ok",
     "timestamp": 1601099998833,
     "user": {
      "displayName": "Kalyan chakravarthi P",
      "photoUrl": "",
      "userId": "13155644528247854005"
     },
     "user_tz": -330
    },
    "id": "yGn2-FiW_INr",
    "outputId": "cdebf245-574a-4f60-9f26-cc8e0c646ab3"
   },
   "outputs": [
    {
     "data": {
      "text/plain": [
       "['Ram', 1, 'Sam', 2]"
      ]
     },
     "execution_count": 24,
     "metadata": {
      "tags": []
     },
     "output_type": "execute_result"
    }
   ],
   "source": [
    "list3[0:4]"
   ]
  },
  {
   "cell_type": "code",
   "execution_count": 25,
   "metadata": {
    "colab": {
     "base_uri": "https://localhost:8080/",
     "height": 34
    },
    "executionInfo": {
     "elapsed": 1500,
     "status": "ok",
     "timestamp": 1601100019966,
     "user": {
      "displayName": "Kalyan chakravarthi P",
      "photoUrl": "",
      "userId": "13155644528247854005"
     },
     "user_tz": -330
    },
    "id": "dZ8z1A07_tgA",
    "outputId": "65025ed3-c0ba-4b32-9edc-ac0ee5e4c853"
   },
   "outputs": [
    {
     "data": {
      "text/plain": [
       "['Ram', 1, 'Sam', 2]"
      ]
     },
     "execution_count": 25,
     "metadata": {
      "tags": []
     },
     "output_type": "execute_result"
    }
   ],
   "source": [
    "list3[:-2]"
   ]
  },
  {
   "cell_type": "code",
   "execution_count": 28,
   "metadata": {
    "colab": {
     "base_uri": "https://localhost:8080/",
     "height": 34
    },
    "executionInfo": {
     "elapsed": 2345,
     "status": "ok",
     "timestamp": 1601100164104,
     "user": {
      "displayName": "Kalyan chakravarthi P",
      "photoUrl": "",
      "userId": "13155644528247854005"
     },
     "user_tz": -330
    },
    "id": "ojN7nz0C_3Ls",
    "outputId": "fd9f83dc-038f-4260-d048-c38a8b5db224"
   },
   "outputs": [
    {
     "data": {
      "text/plain": [
       "[1, 'Sam', 2]"
      ]
     },
     "execution_count": 28,
     "metadata": {
      "tags": []
     },
     "output_type": "execute_result"
    }
   ],
   "source": [
    "list3[1:4]"
   ]
  },
  {
   "cell_type": "code",
   "execution_count": 35,
   "metadata": {
    "colab": {
     "base_uri": "https://localhost:8080/",
     "height": 34
    },
    "executionInfo": {
     "elapsed": 1693,
     "status": "ok",
     "timestamp": 1601100352874,
     "user": {
      "displayName": "Kalyan chakravarthi P",
      "photoUrl": "",
      "userId": "13155644528247854005"
     },
     "user_tz": -330
    },
    "id": "uFCH7l5eAQKV",
    "outputId": "a79443e8-4109-49f8-88b3-836695f40595"
   },
   "outputs": [
    {
     "data": {
      "text/plain": [
       "['Nayan', 2, 'Sam']"
      ]
     },
     "execution_count": 35,
     "metadata": {
      "tags": []
     },
     "output_type": "execute_result"
    }
   ],
   "source": [
    "list3[-2:1:-1]"
   ]
  },
  {
   "cell_type": "code",
   "execution_count": 42,
   "metadata": {
    "colab": {
     "base_uri": "https://localhost:8080/",
     "height": 34
    },
    "executionInfo": {
     "elapsed": 1715,
     "status": "ok",
     "timestamp": 1601100495578,
     "user": {
      "displayName": "Kalyan chakravarthi P",
      "photoUrl": "",
      "userId": "13155644528247854005"
     },
     "user_tz": -330
    },
    "id": "G5SzemTpAwtB",
    "outputId": "39e7881d-6e50-4bf5-d49c-642565c6d792"
   },
   "outputs": [
    {
     "data": {
      "text/plain": [
       "['Sam', 1]"
      ]
     },
     "execution_count": 42,
     "metadata": {
      "tags": []
     },
     "output_type": "execute_result"
    }
   ],
   "source": [
    "list3[2:0:-1]"
   ]
  },
  {
   "cell_type": "code",
   "execution_count": 38,
   "metadata": {
    "colab": {
     "base_uri": "https://localhost:8080/",
     "height": 34
    },
    "executionInfo": {
     "elapsed": 2128,
     "status": "ok",
     "timestamp": 1601100423286,
     "user": {
      "displayName": "Kalyan chakravarthi P",
      "photoUrl": "",
      "userId": "13155644528247854005"
     },
     "user_tz": -330
    },
    "id": "7zqcZwV-BOO0",
    "outputId": "5f0bdfa4-c331-43d4-a033-68e18af3099f"
   },
   "outputs": [
    {
     "data": {
      "text/plain": [
       "['Nayan', 1]"
      ]
     },
     "execution_count": 38,
     "metadata": {
      "tags": []
     },
     "output_type": "execute_result"
    }
   ],
   "source": [
    "list3[4::-3]"
   ]
  },
  {
   "cell_type": "code",
   "execution_count": 39,
   "metadata": {
    "colab": {
     "base_uri": "https://localhost:8080/",
     "height": 34
    },
    "executionInfo": {
     "elapsed": 1359,
     "status": "ok",
     "timestamp": 1601100455178,
     "user": {
      "displayName": "Kalyan chakravarthi P",
      "photoUrl": "",
      "userId": "13155644528247854005"
     },
     "user_tz": -330
    },
    "id": "9JVwsHpyBWdr",
    "outputId": "80429243-e23e-4ffc-e91b-b568b0f4990b"
   },
   "outputs": [
    {
     "data": {
      "text/plain": [
       "[1, 'Sam']"
      ]
     },
     "execution_count": 39,
     "metadata": {
      "tags": []
     },
     "output_type": "execute_result"
    }
   ],
   "source": [
    "demo=list3[1:3]\n",
    "demo"
   ]
  },
  {
   "cell_type": "code",
   "execution_count": 40,
   "metadata": {
    "colab": {
     "base_uri": "https://localhost:8080/",
     "height": 34
    },
    "executionInfo": {
     "elapsed": 2438,
     "status": "ok",
     "timestamp": 1601100465037,
     "user": {
      "displayName": "Kalyan chakravarthi P",
      "photoUrl": "",
      "userId": "13155644528247854005"
     },
     "user_tz": -330
    },
    "id": "jMSsYS0XBhZ2",
    "outputId": "ba101079-3348-4d78-d59c-f34db27a2b49"
   },
   "outputs": [
    {
     "data": {
      "text/plain": [
       "['Sam', 1]"
      ]
     },
     "execution_count": 40,
     "metadata": {
      "tags": []
     },
     "output_type": "execute_result"
    }
   ],
   "source": [
    "demo[::-1]"
   ]
  },
  {
   "cell_type": "code",
   "execution_count": 43,
   "metadata": {
    "colab": {
     "base_uri": "https://localhost:8080/",
     "height": 34
    },
    "executionInfo": {
     "elapsed": 1393,
     "status": "ok",
     "timestamp": 1601100507191,
     "user": {
      "displayName": "Kalyan chakravarthi P",
      "photoUrl": "",
      "userId": "13155644528247854005"
     },
     "user_tz": -330
    },
    "id": "HEATCmzcBjkb",
    "outputId": "d772aa2e-83b7-4fc7-98e4-5d68e0f7a9da"
   },
   "outputs": [
    {
     "data": {
      "text/plain": [
       "['Ram', 1, 'Sam', 2, 'Nayan', 3]"
      ]
     },
     "execution_count": 43,
     "metadata": {
      "tags": []
     },
     "output_type": "execute_result"
    }
   ],
   "source": [
    "list3"
   ]
  },
  {
   "cell_type": "code",
   "execution_count": 46,
   "metadata": {
    "colab": {
     "base_uri": "https://localhost:8080/",
     "height": 34
    },
    "executionInfo": {
     "elapsed": 2151,
     "status": "ok",
     "timestamp": 1601100595377,
     "user": {
      "displayName": "Kalyan chakravarthi P",
      "photoUrl": "",
      "userId": "13155644528247854005"
     },
     "user_tz": -330
    },
    "id": "jCUUfgOqBuJE",
    "outputId": "5e420c0b-8099-4fd9-8255-e93244362391"
   },
   "outputs": [
    {
     "data": {
      "text/plain": [
       "['Ram', 1, 'Sam', 2, 'Nayan', 3, 'Mounika', 'Mounika']"
      ]
     },
     "execution_count": 46,
     "metadata": {
      "tags": []
     },
     "output_type": "execute_result"
    }
   ],
   "source": [
    "list3.append(\"Mounika\")\n",
    "list3"
   ]
  },
  {
   "cell_type": "code",
   "execution_count": 66,
   "metadata": {
    "colab": {
     "base_uri": "https://localhost:8080/",
     "height": 34
    },
    "executionInfo": {
     "elapsed": 1111,
     "status": "ok",
     "timestamp": 1601101866577,
     "user": {
      "displayName": "Kalyan chakravarthi P",
      "photoUrl": "",
      "userId": "13155644528247854005"
     },
     "user_tz": -330
    },
    "id": "YrQEYnICB__r",
    "outputId": "ea56cf95-73e9-4995-8b82-2ebc6fda8073"
   },
   "outputs": [
    {
     "data": {
      "text/plain": [
       "[1, 2, 3, ['a', 'b', 'c']]"
      ]
     },
     "execution_count": 66,
     "metadata": {
      "tags": []
     },
     "output_type": "execute_result"
    }
   ],
   "source": [
    "list5=[1,2,3]\n",
    "list6=[\"a\",\"b\",\"c\"]\n",
    "list5.append(list6)\n",
    "list5"
   ]
  },
  {
   "cell_type": "code",
   "execution_count": 70,
   "metadata": {
    "colab": {
     "base_uri": "https://localhost:8080/",
     "height": 34
    },
    "executionInfo": {
     "elapsed": 1347,
     "status": "ok",
     "timestamp": 1601101977474,
     "user": {
      "displayName": "Kalyan chakravarthi P",
      "photoUrl": "",
      "userId": "13155644528247854005"
     },
     "user_tz": -330
    },
    "id": "x2mvyy2UCTwE",
    "outputId": "c2fc05e1-f40a-4b55-a92e-663a5474a073"
   },
   "outputs": [
    {
     "data": {
      "text/plain": [
       "[1, 2, 3, 'a', 'b', 'c']"
      ]
     },
     "execution_count": 70,
     "metadata": {
      "tags": []
     },
     "output_type": "execute_result"
    }
   ],
   "source": [
    "list5=[1,2,3]\n",
    "list6=[\"a\",\"b\",\"c\"]\n",
    "list5.extend(list6)\n",
    "list5"
   ]
  },
  {
   "cell_type": "code",
   "execution_count": 54,
   "metadata": {
    "executionInfo": {
     "elapsed": 1592,
     "status": "ok",
     "timestamp": 1601101436839,
     "user": {
      "displayName": "Kalyan chakravarthi P",
      "photoUrl": "",
      "userId": "13155644528247854005"
     },
     "user_tz": -330
    },
    "id": "UYfT4hBzCnBn"
   },
   "outputs": [],
   "source": []
  },
  {
   "cell_type": "code",
   "execution_count": 57,
   "metadata": {
    "colab": {
     "base_uri": "https://localhost:8080/",
     "height": 34
    },
    "executionInfo": {
     "elapsed": 1765,
     "status": "ok",
     "timestamp": 1601101537370,
     "user": {
      "displayName": "Kalyan chakravarthi P",
      "photoUrl": "",
      "userId": "13155644528247854005"
     },
     "user_tz": -330
    },
    "id": "SJdmRW7fDrrv",
    "outputId": "d3c5f07e-ec52-4d7e-bada-8d8c444a7f18"
   },
   "outputs": [
    {
     "data": {
      "text/plain": [
       "[1, 2, 3, 'a', 'b', 'c']"
      ]
     },
     "execution_count": 57,
     "metadata": {
      "tags": []
     },
     "output_type": "execute_result"
    }
   ],
   "source": [
    "list5"
   ]
  },
  {
   "cell_type": "code",
   "execution_count": 58,
   "metadata": {
    "colab": {
     "base_uri": "https://localhost:8080/",
     "height": 34
    },
    "executionInfo": {
     "elapsed": 1556,
     "status": "ok",
     "timestamp": 1601101582871,
     "user": {
      "displayName": "Kalyan chakravarthi P",
      "photoUrl": "",
      "userId": "13155644528247854005"
     },
     "user_tz": -330
    },
    "id": "ukaB0OBCDs__",
    "outputId": "a6e90fde-b4b1-4a84-b080-1094f754ce2f"
   },
   "outputs": [
    {
     "data": {
      "text/plain": [
       "[1, 2, 3, 'a', 'b']"
      ]
     },
     "execution_count": 58,
     "metadata": {
      "tags": []
     },
     "output_type": "execute_result"
    }
   ],
   "source": [
    "list5.remove(\"c\")\n",
    "list5"
   ]
  },
  {
   "cell_type": "code",
   "execution_count": 59,
   "metadata": {
    "colab": {
     "base_uri": "https://localhost:8080/",
     "height": 34
    },
    "executionInfo": {
     "elapsed": 1353,
     "status": "ok",
     "timestamp": 1601101635485,
     "user": {
      "displayName": "Kalyan chakravarthi P",
      "photoUrl": "",
      "userId": "13155644528247854005"
     },
     "user_tz": -330
    },
    "id": "veFUV38-EhH2",
    "outputId": "881f9bf5-4077-4e4a-d8bb-4c004ad289bc"
   },
   "outputs": [
    {
     "data": {
      "text/plain": [
       "[1, 2, 3, 'a']"
      ]
     },
     "execution_count": 59,
     "metadata": {
      "tags": []
     },
     "output_type": "execute_result"
    }
   ],
   "source": [
    "list5.pop()\n",
    "list5"
   ]
  },
  {
   "cell_type": "code",
   "execution_count": 67,
   "metadata": {
    "colab": {
     "base_uri": "https://localhost:8080/",
     "height": 34
    },
    "executionInfo": {
     "elapsed": 1825,
     "status": "ok",
     "timestamp": 1601101881175,
     "user": {
      "displayName": "Kalyan chakravarthi P",
      "photoUrl": "",
      "userId": "13155644528247854005"
     },
     "user_tz": -330
    },
    "id": "X6b1Ui4PGBgw",
    "outputId": "981acdbc-41af-408a-dbec-8269304b69c5"
   },
   "outputs": [
    {
     "data": {
      "text/plain": [
       "[1, 2, ['a', 'b', 'c']]"
      ]
     },
     "execution_count": 67,
     "metadata": {
      "tags": []
     },
     "output_type": "execute_result"
    }
   ],
   "source": [
    "list5.pop(2)\n",
    "list5"
   ]
  },
  {
   "cell_type": "code",
   "execution_count": 64,
   "metadata": {
    "colab": {
     "base_uri": "https://localhost:8080/",
     "height": 34
    },
    "executionInfo": {
     "elapsed": 1694,
     "status": "ok",
     "timestamp": 1601101797263,
     "user": {
      "displayName": "Kalyan chakravarthi P",
      "photoUrl": "",
      "userId": "13155644528247854005"
     },
     "user_tz": -330
    },
    "id": "pCO6VSfCGMbE",
    "outputId": "98756c79-cdcd-4aab-fd7c-df7a73511ad7"
   },
   "outputs": [
    {
     "data": {
      "text/plain": [
       "[]"
      ]
     },
     "execution_count": 64,
     "metadata": {
      "tags": []
     },
     "output_type": "execute_result"
    }
   ],
   "source": [
    "list5.clear()\n",
    "list5"
   ]
  },
  {
   "cell_type": "code",
   "execution_count": 65,
   "metadata": {
    "colab": {
     "base_uri": "https://localhost:8080/",
     "height": 202
    },
    "executionInfo": {
     "elapsed": 1354,
     "status": "error",
     "timestamp": 1601101851350,
     "user": {
      "displayName": "Kalyan chakravarthi P",
      "photoUrl": "",
      "userId": "13155644528247854005"
     },
     "user_tz": -330
    },
    "id": "cTC8sGf-GcL2",
    "outputId": "da51d740-875a-47d3-f79f-58d581bc67e9"
   },
   "outputs": [
    {
     "ename": "NameError",
     "evalue": "ignored",
     "output_type": "error",
     "traceback": [
      "\u001b[0;31m---------------------------------------------------------------------------\u001b[0m",
      "\u001b[0;31mNameError\u001b[0m                                 Traceback (most recent call last)",
      "\u001b[0;32m<ipython-input-65-6b1609890692>\u001b[0m in \u001b[0;36m<module>\u001b[0;34m()\u001b[0m\n\u001b[1;32m      1\u001b[0m \u001b[0;32mdel\u001b[0m \u001b[0mlist5\u001b[0m\u001b[0;34m\u001b[0m\u001b[0;34m\u001b[0m\u001b[0m\n\u001b[1;32m      2\u001b[0m \u001b[0;34m\u001b[0m\u001b[0m\n\u001b[0;32m----> 3\u001b[0;31m \u001b[0mlist5\u001b[0m\u001b[0;34m\u001b[0m\u001b[0;34m\u001b[0m\u001b[0m\n\u001b[0m",
      "\u001b[0;31mNameError\u001b[0m: name 'list5' is not defined"
     ]
    }
   ],
   "source": [
    "del list5\n",
    "\n",
    "list5"
   ]
  },
  {
   "cell_type": "code",
   "execution_count": 71,
   "metadata": {
    "colab": {
     "base_uri": "https://localhost:8080/",
     "height": 34
    },
    "executionInfo": {
     "elapsed": 2295,
     "status": "ok",
     "timestamp": 1601101987408,
     "user": {
      "displayName": "Kalyan chakravarthi P",
      "photoUrl": "",
      "userId": "13155644528247854005"
     },
     "user_tz": -330
    },
    "id": "6SnGXxFhG2Od",
    "outputId": "c24cd86f-dd77-4df2-8a1b-c2119b11aff5"
   },
   "outputs": [
    {
     "data": {
      "text/plain": [
       "[1, 2, 3, 'Aravind', 'a', 'b', 'c']"
      ]
     },
     "execution_count": 71,
     "metadata": {
      "tags": []
     },
     "output_type": "execute_result"
    }
   ],
   "source": [
    "\n",
    "list5.insert(3,\"Aravind\")\n",
    "list5"
   ]
  },
  {
   "cell_type": "code",
   "execution_count": 73,
   "metadata": {
    "colab": {
     "base_uri": "https://localhost:8080/",
     "height": 34
    },
    "executionInfo": {
     "elapsed": 1419,
     "status": "ok",
     "timestamp": 1601102027114,
     "user": {
      "displayName": "Kalyan chakravarthi P",
      "photoUrl": "",
      "userId": "13155644528247854005"
     },
     "user_tz": -330
    },
    "id": "67FMz7rAHMJ2",
    "outputId": "d42dadab-fa2f-4d75-ff1b-d07df26b8e23"
   },
   "outputs": [
    {
     "data": {
      "text/plain": [
       "[1, 2, 3, 'Aravind', 'a', 'b', 'c', 'a', 'b', 'c']"
      ]
     },
     "execution_count": 73,
     "metadata": {
      "tags": []
     },
     "output_type": "execute_result"
    }
   ],
   "source": [
    "list7=list5 + list6\n",
    "list7"
   ]
  },
  {
   "cell_type": "code",
   "execution_count": 74,
   "metadata": {
    "colab": {
     "base_uri": "https://localhost:8080/",
     "height": 140
    },
    "executionInfo": {
     "elapsed": 1519,
     "status": "ok",
     "timestamp": 1601102105862,
     "user": {
      "displayName": "Kalyan chakravarthi P",
      "photoUrl": "",
      "userId": "13155644528247854005"
     },
     "user_tz": -330
    },
    "id": "7gggVRHHHf-A",
    "outputId": "1eb006ad-70e6-4b1a-931c-2d0d038e9d36"
   },
   "outputs": [
    {
     "name": "stdout",
     "output_type": "stream",
     "text": [
      "1\n",
      "2\n",
      "3\n",
      "Aravind\n",
      "a\n",
      "b\n",
      "c\n"
     ]
    }
   ],
   "source": [
    "for  data in list5:\n",
    "  print(data)"
   ]
  },
  {
   "cell_type": "code",
   "execution_count": 76,
   "metadata": {
    "colab": {
     "base_uri": "https://localhost:8080/",
     "height": 34
    },
    "executionInfo": {
     "elapsed": 1477,
     "status": "ok",
     "timestamp": 1601102382296,
     "user": {
      "displayName": "Kalyan chakravarthi P",
      "photoUrl": "",
      "userId": "13155644528247854005"
     },
     "user_tz": -330
    },
    "id": "X-veHqKWH0Ld",
    "outputId": "3bfc1017-c1d0-4f09-9594-6a78211dea98"
   },
   "outputs": [
    {
     "name": "stdout",
     "output_type": "stream",
     "text": [
      "['Rakesh', 'vamsi', 'Madhavi', 'sam', 'Mounica', 'Bhanu']\n"
     ]
    }
   ],
   "source": [
    "employee=[\"sam\",\"Mounica\",\"Bhanu\"]\n",
    "manager=[\"Rakesh\",\"vamsi\",\"Madhavi\"]\n",
    "for emp in employee:\n",
    "  manager.append(emp)\n",
    "\n",
    "print(manager)\n",
    "\n"
   ]
  },
  {
   "cell_type": "code",
   "execution_count": 79,
   "metadata": {
    "colab": {
     "base_uri": "https://localhost:8080/",
     "height": 34
    },
    "executionInfo": {
     "elapsed": 1499,
     "status": "ok",
     "timestamp": 1601102453895,
     "user": {
      "displayName": "Kalyan chakravarthi P",
      "photoUrl": "",
      "userId": "13155644528247854005"
     },
     "user_tz": -330
    },
    "id": "kxdvtlMCIqnx",
    "outputId": "7f7acb36-2308-46bf-fb6a-7a67158062cf"
   },
   "outputs": [
    {
     "name": "stdout",
     "output_type": "stream",
     "text": [
      "He is in manager list\n"
     ]
    }
   ],
   "source": [
    "if \"vamsi\" in manager:\n",
    "  print(\"He is in manager list\")\n",
    "else:\n",
    "  print(\"No he is not one of the manager\")"
   ]
  },
  {
   "cell_type": "code",
   "execution_count": 83,
   "metadata": {
    "colab": {
     "base_uri": "https://localhost:8080/",
     "height": 225
    },
    "executionInfo": {
     "elapsed": 2275,
     "status": "ok",
     "timestamp": 1601102517680,
     "user": {
      "displayName": "Kalyan chakravarthi P",
      "photoUrl": "",
      "userId": "13155644528247854005"
     },
     "user_tz": -330
    },
    "id": "Ol5iEzrKJCK3",
    "outputId": "4f86d626-980b-4655-a250-6e28079f807a"
   },
   "outputs": [
    {
     "data": {
      "text/plain": [
       "[1,\n",
       " 2,\n",
       " 3,\n",
       " 'Aravind',\n",
       " 'a',\n",
       " 'b',\n",
       " 'c',\n",
       " ['a', 'b', 'c'],\n",
       " ['a', 'b', 'c'],\n",
       " 'a',\n",
       " 'b',\n",
       " 'c']"
      ]
     },
     "execution_count": 83,
     "metadata": {
      "tags": []
     },
     "output_type": "execute_result"
    }
   ],
   "source": [
    "list5.extend(list6)\n",
    "list5"
   ]
  },
  {
   "cell_type": "code",
   "execution_count": 86,
   "metadata": {
    "colab": {
     "base_uri": "https://localhost:8080/",
     "height": 34
    },
    "executionInfo": {
     "elapsed": 3066,
     "status": "ok",
     "timestamp": 1601102584998,
     "user": {
      "displayName": "Kalyan chakravarthi P",
      "photoUrl": "",
      "userId": "13155644528247854005"
     },
     "user_tz": -330
    },
    "id": "pkVOSXZjJOl-",
    "outputId": "c8655693-859e-4cc0-f5c7-3f20668d8d7b"
   },
   "outputs": [
    {
     "data": {
      "text/plain": [
       "1"
      ]
     },
     "execution_count": 86,
     "metadata": {
      "tags": []
     },
     "output_type": "execute_result"
    }
   ],
   "source": [
    "list5.count(2)"
   ]
  },
  {
   "cell_type": "code",
   "execution_count": null,
   "metadata": {
    "id": "FJv-HeYiJhYl"
   },
   "outputs": [],
   "source": [
    "# In a given list i want to get 2nd highest value\n",
    "Example: \n",
    "i/p:   321321\n",
    "       3213\n",
    "       121\n",
    "       2\n",
    "       3244234\n",
    "       332443 \n",
    "o.p:    332443\n"
   ]
  },
  {
   "cell_type": "code",
   "execution_count": 93,
   "metadata": {
    "colab": {
     "base_uri": "https://localhost:8080/",
     "height": 190
    },
    "executionInfo": {
     "elapsed": 18979,
     "status": "ok",
     "timestamp": 1601104631763,
     "user": {
      "displayName": "Kalyan chakravarthi P",
      "photoUrl": "",
      "userId": "13155644528247854005"
     },
     "user_tz": -330
    },
    "id": "u04Uq5BXMWl3",
    "outputId": "9cecd96b-b4b9-4bb1-a02f-4a4c3db878a0"
   },
   "outputs": [
    {
     "name": "stdout",
     "output_type": "stream",
     "text": [
      "Enter how many marks are there7\n",
      "Enter Marks34\n",
      "Enter Marks22\n",
      "Enter Marks12\n",
      "Enter Marks1\n",
      "Enter Marks2\n",
      "Enter Marks3\n",
      "Enter Marks4\n",
      "Entered Marks are  [34, 22, 12, 1, 2, 3, 4]\n"
     ]
    },
    {
     "data": {
      "text/plain": [
       "22"
      ]
     },
     "execution_count": 93,
     "metadata": {
      "tags": []
     },
     "output_type": "execute_result"
    }
   ],
   "source": [
    "marks=[]\n",
    "marks_size=int(input(\"Enter how many marks are there\"))\n",
    "for data in range(marks_size):\n",
    "   marks_list=int(input(\"Enter Marks\"))\n",
    "   marks.append(marks_list)\n",
    "\n",
    "print(\"Entered Marks are \", marks)\n",
    "def secondHighest(marks):\n",
    "  marks.sort()\n",
    "  return marks[-2]\n",
    "\n",
    "secondHighest(marks)\n"
   ]
  },
  {
   "cell_type": "code",
   "execution_count": null,
   "metadata": {
    "id": "MJ-K36BzPXBP"
   },
   "outputs": [],
   "source": []
  }
 ],
 "metadata": {
  "colab": {
   "authorship_tag": "ABX9TyN7Px29Le8eMRQj2pT+9GCK",
   "name": "26-9-2020.ipynb",
   "provenance": []
  },
  "kernelspec": {
   "display_name": "Python 3",
   "language": "python",
   "name": "python3"
  },
  "language_info": {
   "codemirror_mode": {
    "name": "ipython",
    "version": 3
   },
   "file_extension": ".py",
   "mimetype": "text/x-python",
   "name": "python",
   "nbconvert_exporter": "python",
   "pygments_lexer": "ipython3",
   "version": "3.7.4"
  }
 },
 "nbformat": 4,
 "nbformat_minor": 1
}
